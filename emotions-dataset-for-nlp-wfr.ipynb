{
 "cells": [
  {
   "cell_type": "code",
   "execution_count": 1,
   "id": "252d3b8c",
   "metadata": {
    "_cell_guid": "b1076dfc-b9ad-4769-8c92-a6c4dae69d19",
    "_uuid": "8f2839f25d086af736a60e9eeb907d3b93b6e0e5",
    "execution": {
     "iopub.execute_input": "2022-01-19T17:30:46.591351Z",
     "iopub.status.busy": "2022-01-19T17:30:46.590404Z",
     "iopub.status.idle": "2022-01-19T17:30:46.613413Z",
     "shell.execute_reply": "2022-01-19T17:30:46.613967Z",
     "shell.execute_reply.started": "2022-01-19T17:14:42.588254Z"
    },
    "papermill": {
     "duration": 0.051146,
     "end_time": "2022-01-19T17:30:46.614486",
     "exception": false,
     "start_time": "2022-01-19T17:30:46.563340",
     "status": "completed"
    },
    "tags": []
   },
   "outputs": [
    {
     "name": "stdout",
     "output_type": "stream",
     "text": [
      "/kaggle/input/emotions-dataset-for-nlp/val.txt\n",
      "/kaggle/input/emotions-dataset-for-nlp/test.txt\n",
      "/kaggle/input/emotions-dataset-for-nlp/train.txt\n"
     ]
    }
   ],
   "source": [
    "# This Python 3 environment comes with many helpful analytics libraries installed\n",
    "# It is defined by the kaggle/python Docker image: https://github.com/kaggle/docker-python\n",
    "# For example, here's several helpful packages to load\n",
    "\n",
    "import numpy as np # linear algebra\n",
    "import pandas as pd # data processing, CSV file I/O (e.g. pd.read_csv)\n",
    "\n",
    "# Input data files are available in the read-only \"../input/\" directory\n",
    "# For example, running this (by clicking run or pressing Shift+Enter) will list all files under the input directory\n",
    "\n",
    "import os\n",
    "for dirname, _, filenames in os.walk('/kaggle/input'):\n",
    "    for filename in filenames:\n",
    "        print(os.path.join(dirname, filename))\n",
    "\n",
    "# You can write up to 20GB to the current directory (/kaggle/working/) that gets preserved as output when you create a version using \"Save & Run All\" \n",
    "# You can also write temporary files to /kaggle/temp/, but they won't be saved outside of the current session"
   ]
  },
  {
   "cell_type": "code",
   "execution_count": 2,
   "id": "b0f824ce",
   "metadata": {
    "execution": {
     "iopub.execute_input": "2022-01-19T17:30:46.649942Z",
     "iopub.status.busy": "2022-01-19T17:30:46.648552Z",
     "iopub.status.idle": "2022-01-19T17:30:53.099352Z",
     "shell.execute_reply": "2022-01-19T17:30:53.098750Z",
     "shell.execute_reply.started": "2022-01-19T17:14:42.607473Z"
    },
    "papermill": {
     "duration": 6.469389,
     "end_time": "2022-01-19T17:30:53.099490",
     "exception": false,
     "start_time": "2022-01-19T17:30:46.630101",
     "status": "completed"
    },
    "tags": []
   },
   "outputs": [],
   "source": [
    "from sklearn import preprocessing\n",
    "import tensorflow as tf\n",
    "from tensorflow.keras import utils\n",
    "def trait_data(diretory):\n",
    "    data=pd.read_csv(diretory, sep=\";\", header=None)\n",
    "    data = data.rename(columns = {0:\"sentences\", 1:\"classes\"})\n",
    "    x=data['sentences'].values\n",
    "    y=data['classes']\n",
    "    le = preprocessing.LabelEncoder()\n",
    "    y=le.fit_transform(y)\n",
    "    y=utils.to_categorical(y, num_classes=None, dtype=\"float32\")\n",
    "    \n",
    "    return x,y"
   ]
  },
  {
   "cell_type": "code",
   "execution_count": null,
   "id": "2c8c8dbb",
   "metadata": {
    "papermill": {
     "duration": 0.013194,
     "end_time": "2022-01-19T17:30:53.126221",
     "exception": false,
     "start_time": "2022-01-19T17:30:53.113027",
     "status": "completed"
    },
    "tags": []
   },
   "outputs": [],
   "source": []
  },
  {
   "cell_type": "code",
   "execution_count": 3,
   "id": "de35da1a",
   "metadata": {
    "execution": {
     "iopub.execute_input": "2022-01-19T17:30:53.159083Z",
     "iopub.status.busy": "2022-01-19T17:30:53.158439Z",
     "iopub.status.idle": "2022-01-19T17:30:53.276028Z",
     "shell.execute_reply": "2022-01-19T17:30:53.276579Z",
     "shell.execute_reply.started": "2022-01-19T17:14:49.512542Z"
    },
    "papermill": {
     "duration": 0.137015,
     "end_time": "2022-01-19T17:30:53.276748",
     "exception": false,
     "start_time": "2022-01-19T17:30:53.139733",
     "status": "completed"
    },
    "tags": []
   },
   "outputs": [],
   "source": [
    "x_train,y_train=trait_data(\"../input/emotions-dataset-for-nlp/train.txt\")\n",
    "x_test,y_test=trait_data(\"../input/emotions-dataset-for-nlp/test.txt\")\n",
    "x_val,y_val=trait_data(\"../input/emotions-dataset-for-nlp/val.txt\")"
   ]
  },
  {
   "cell_type": "code",
   "execution_count": 4,
   "id": "5619cf58",
   "metadata": {
    "execution": {
     "iopub.execute_input": "2022-01-19T17:30:53.307230Z",
     "iopub.status.busy": "2022-01-19T17:30:53.306444Z",
     "iopub.status.idle": "2022-01-19T17:30:53.313670Z",
     "shell.execute_reply": "2022-01-19T17:30:53.314285Z",
     "shell.execute_reply.started": "2022-01-19T17:14:49.658574Z"
    },
    "papermill": {
     "duration": 0.024095,
     "end_time": "2022-01-19T17:30:53.314450",
     "exception": false,
     "start_time": "2022-01-19T17:30:53.290355",
     "status": "completed"
    },
    "tags": []
   },
   "outputs": [
    {
     "data": {
      "text/plain": [
       "array([[0., 0., 0., 0., 1., 0.],\n",
       "       [0., 0., 0., 0., 1., 0.],\n",
       "       [1., 0., 0., 0., 0., 0.],\n",
       "       ...,\n",
       "       [0., 0., 1., 0., 0., 0.],\n",
       "       [1., 0., 0., 0., 0., 0.],\n",
       "       [0., 0., 0., 0., 1., 0.]], dtype=float32)"
      ]
     },
     "execution_count": 4,
     "metadata": {},
     "output_type": "execute_result"
    }
   ],
   "source": [
    "y_train"
   ]
  },
  {
   "cell_type": "code",
   "execution_count": 5,
   "id": "fab8a675",
   "metadata": {
    "execution": {
     "iopub.execute_input": "2022-01-19T17:30:53.348154Z",
     "iopub.status.busy": "2022-01-19T17:30:53.347498Z",
     "iopub.status.idle": "2022-01-19T17:30:53.352188Z",
     "shell.execute_reply": "2022-01-19T17:30:53.351285Z",
     "shell.execute_reply.started": "2022-01-19T17:14:49.673104Z"
    },
    "papermill": {
     "duration": 0.023947,
     "end_time": "2022-01-19T17:30:53.352376",
     "exception": false,
     "start_time": "2022-01-19T17:30:53.328429",
     "status": "completed"
    },
    "tags": []
   },
   "outputs": [
    {
     "name": "stdout",
     "output_type": "stream",
     "text": [
      "sentence: i didnt feel humiliated. Classe:[0. 0. 0. 0. 1. 0.]\n"
     ]
    }
   ],
   "source": [
    "print('sentence: {}. Classe:{}'.format(x_train[0], y_train[0]))"
   ]
  },
  {
   "cell_type": "code",
   "execution_count": 6,
   "id": "99767f84",
   "metadata": {
    "execution": {
     "iopub.execute_input": "2022-01-19T17:30:53.384751Z",
     "iopub.status.busy": "2022-01-19T17:30:53.384116Z",
     "iopub.status.idle": "2022-01-19T17:30:54.360755Z",
     "shell.execute_reply": "2022-01-19T17:30:54.360148Z",
     "shell.execute_reply.started": "2022-01-19T17:14:49.681107Z"
    },
    "papermill": {
     "duration": 0.993577,
     "end_time": "2022-01-19T17:30:54.360904",
     "exception": false,
     "start_time": "2022-01-19T17:30:53.367327",
     "status": "completed"
    },
    "tags": []
   },
   "outputs": [],
   "source": [
    "# tokenizing\n",
    "\n",
    "from tensorflow.keras.preprocessing.text import Tokenizer\n",
    "from tensorflow.keras.preprocessing.sequence import pad_sequences\n",
    " \n",
    "tokenizer = Tokenizer(num_words=2000)\n",
    "tokenizer.fit_on_texts(x_train) \n",
    "#tokenizer.fit_on_texts(x_val)\n",
    "#tokenizer.fit_on_texts(x_test)\n",
    "#print(x_train)\n",
    "sequence_train = tokenizer.texts_to_sequences(x_train)\n",
    "sequence_val = tokenizer.texts_to_sequences(x_val)\n",
    "sequence_test = tokenizer.texts_to_sequences(x_test)\n",
    " \n",
    "padded_train = pad_sequences(sequence_train) \n",
    "padded_test = pad_sequences(sequence_test)\n",
    "padded_val = pad_sequences(sequence_val)"
   ]
  },
  {
   "cell_type": "code",
   "execution_count": 7,
   "id": "d8b4e333",
   "metadata": {
    "execution": {
     "iopub.execute_input": "2022-01-19T17:30:54.397000Z",
     "iopub.status.busy": "2022-01-19T17:30:54.392347Z",
     "iopub.status.idle": "2022-01-19T17:30:54.399006Z",
     "shell.execute_reply": "2022-01-19T17:30:54.399513Z",
     "shell.execute_reply.started": "2022-01-19T17:14:50.748985Z"
    },
    "papermill": {
     "duration": 0.024459,
     "end_time": "2022-01-19T17:30:54.399675",
     "exception": false,
     "start_time": "2022-01-19T17:30:54.375216",
     "status": "completed"
    },
    "tags": []
   },
   "outputs": [],
   "source": [
    "def Turn_in_sequential(padded,y,SEQLEN = 10,STEP=1):\n",
    "    # SEQLEN - Length of the sequence to predict next char\n",
    "    #STEP  - stride between two subsequent sequences\n",
    "    padded=np.array(padded)\n",
    "    padded=np.array(y)\n",
    "    \n",
    "    input_chars = []\n",
    "    label_chars = []\n",
    "    \n",
    "    for i in range(0, len(padded) - SEQLEN, STEP):\n",
    "        # Append input of size SEQLEN\n",
    "        input_chars.append(padded[i:SEQLEN+i])\n",
    "        # Append output (label) of size 1\n",
    "        label_chars.append(y[i:SEQLEN+i])\n",
    "    return padded, y\n"
   ]
  },
  {
   "cell_type": "code",
   "execution_count": 8,
   "id": "07ef2ca9",
   "metadata": {
    "execution": {
     "iopub.execute_input": "2022-01-19T17:30:54.432855Z",
     "iopub.status.busy": "2022-01-19T17:30:54.432214Z",
     "iopub.status.idle": "2022-01-19T17:30:54.434508Z",
     "shell.execute_reply": "2022-01-19T17:30:54.434990Z",
     "shell.execute_reply.started": "2022-01-19T17:14:50.757589Z"
    },
    "papermill": {
     "duration": 0.021321,
     "end_time": "2022-01-19T17:30:54.435169",
     "exception": false,
     "start_time": "2022-01-19T17:30:54.413848",
     "status": "completed"
    },
    "tags": []
   },
   "outputs": [],
   "source": [
    "#padded_train, y_train = Turn_in_sequential(padded_train,y_train)\n",
    "#padded_val, y_val = Turn_in_sequential(padded_val,y_val)\n",
    "#padded_test, y_test = Turn_in_sequential(padded_test,y_test)"
   ]
  },
  {
   "cell_type": "code",
   "execution_count": 9,
   "id": "8299aa67",
   "metadata": {
    "execution": {
     "iopub.execute_input": "2022-01-19T17:30:54.467749Z",
     "iopub.status.busy": "2022-01-19T17:30:54.467113Z",
     "iopub.status.idle": "2022-01-19T17:30:54.468789Z",
     "shell.execute_reply": "2022-01-19T17:30:54.469263Z",
     "shell.execute_reply.started": "2022-01-19T17:14:50.770613Z"
    },
    "papermill": {
     "duration": 0.020131,
     "end_time": "2022-01-19T17:30:54.469430",
     "exception": false,
     "start_time": "2022-01-19T17:30:54.449299",
     "status": "completed"
    },
    "tags": []
   },
   "outputs": [],
   "source": [
    "#y_train=y_train.reshape(-1,1)\n",
    "#y_val=y_val.reshape(-1,1)\n",
    "#y_test=y_test.reshape(-1,1)"
   ]
  },
  {
   "cell_type": "code",
   "execution_count": 10,
   "id": "340e6d13",
   "metadata": {
    "execution": {
     "iopub.execute_input": "2022-01-19T17:30:54.501340Z",
     "iopub.status.busy": "2022-01-19T17:30:54.500689Z",
     "iopub.status.idle": "2022-01-19T17:30:54.937961Z",
     "shell.execute_reply": "2022-01-19T17:30:54.936749Z",
     "shell.execute_reply.started": "2022-01-19T17:14:50.783108Z"
    },
    "papermill": {
     "duration": 0.454719,
     "end_time": "2022-01-19T17:30:54.938248",
     "exception": false,
     "start_time": "2022-01-19T17:30:54.483529",
     "status": "completed"
    },
    "tags": []
   },
   "outputs": [
    {
     "name": "stderr",
     "output_type": "stream",
     "text": [
      "\n",
      "User settings:\n",
      "\n",
      "   KMP_AFFINITY=granularity=fine,verbose,compact,1,0\n",
      "   KMP_BLOCKTIME=0\n",
      "   KMP_DUPLICATE_LIB_OK=True\n",
      "   KMP_INIT_AT_FORK=FALSE\n",
      "   KMP_SETTINGS=1\n",
      "   KMP_WARNINGS=0\n",
      "\n",
      "Effective settings:\n",
      "\n",
      "   KMP_ABORT_DELAY=0\n",
      "   KMP_ADAPTIVE_LOCK_PROPS='1,1024'\n",
      "   KMP_ALIGN_ALLOC=64\n",
      "   KMP_ALL_THREADPRIVATE=128\n",
      "   KMP_ATOMIC_MODE=2\n",
      "   KMP_BLOCKTIME=0\n",
      "   KMP_CPUINFO_FILE: value is not defined\n",
      "   KMP_DETERMINISTIC_REDUCTION=false\n",
      "   KMP_DEVICE_THREAD_LIMIT=2147483647\n",
      "   KMP_DISP_NUM_BUFFERS=7\n",
      "   KMP_DUPLICATE_LIB_OK=true\n",
      "   KMP_ENABLE_TASK_THROTTLING=true\n",
      "   KMP_FORCE_REDUCTION: value is not defined\n",
      "   KMP_FOREIGN_THREADS_THREADPRIVATE=true\n",
      "   KMP_FORKJOIN_BARRIER='2,2'\n",
      "   KMP_FORKJOIN_BARRIER_PATTERN='hyper,hyper'\n",
      "   KMP_GTID_MODE=3\n",
      "   KMP_HANDLE_SIGNALS=false\n",
      "   KMP_HOT_TEAMS_MAX_LEVEL=1\n",
      "   KMP_HOT_TEAMS_MODE=0\n",
      "   KMP_INIT_AT_FORK=true\n",
      "   KMP_LIBRARY=throughput\n",
      "   KMP_LOCK_KIND=queuing\n",
      "   KMP_MALLOC_POOL_INCR=1M\n",
      "   KMP_NUM_LOCKS_IN_BLOCK=1\n",
      "   KMP_PLAIN_BARRIER='2,2'\n",
      "   KMP_PLAIN_BARRIER_PATTERN='hyper,hyper'\n",
      "   KMP_REDUCTION_BARRIER='1,1'\n",
      "   KMP_REDUCTION_BARRIER_PATTERN='hyper,hyper'\n",
      "   KMP_SCHEDULE='static,balanced;guided,iterative'\n",
      "   KMP_SETTINGS=true\n",
      "   KMP_SPIN_BACKOFF_PARAMS='4096,100'\n",
      "   KMP_STACKOFFSET=64\n",
      "   KMP_STACKPAD=0\n",
      "   KMP_STACKSIZE=8M\n",
      "   KMP_STORAGE_MAP=false\n",
      "   KMP_TASKING=2\n",
      "   KMP_TASKLOOP_MIN_TASKS=0\n",
      "   KMP_TASK_STEALING_CONSTRAINT=1\n",
      "   KMP_TEAMS_THREAD_LIMIT=4\n",
      "   KMP_TOPOLOGY_METHOD=all\n",
      "   KMP_USE_YIELD=1\n",
      "   KMP_VERSION=false\n",
      "   KMP_WARNINGS=false\n",
      "   OMP_AFFINITY_FORMAT='OMP: pid %P tid %i thread %n bound to OS proc set {%A}'\n",
      "   OMP_ALLOCATOR=omp_default_mem_alloc\n",
      "   OMP_CANCELLATION=false\n",
      "   OMP_DEFAULT_DEVICE=0\n",
      "   OMP_DISPLAY_AFFINITY=false\n",
      "   OMP_DISPLAY_ENV=false\n",
      "   OMP_DYNAMIC=false\n",
      "   OMP_MAX_ACTIVE_LEVELS=1\n",
      "   OMP_MAX_TASK_PRIORITY=0\n",
      "   OMP_NESTED: deprecated; max-active-levels-var=1\n",
      "   OMP_NUM_THREADS: value is not defined\n",
      "   OMP_PLACES: value is not defined\n",
      "   OMP_PROC_BIND='intel'\n",
      "   OMP_SCHEDULE='static'\n",
      "   OMP_STACKSIZE=8M\n",
      "   OMP_TARGET_OFFLOAD=DEFAULT\n",
      "   OMP_THREAD_LIMIT=2147483647\n",
      "   OMP_WAIT_POLICY=PASSIVE\n",
      "   KMP_AFFINITY='verbose,warnings,respect,granularity=fine,compact,1,0'\n",
      "\n",
      "2022-01-19 17:30:54.546733: I tensorflow/core/common_runtime/process_util.cc:146] Creating new thread pool with default inter op setting: 2. Tune using inter_op_parallelism_threads for best performance.\n"
     ]
    },
    {
     "name": "stdout",
     "output_type": "stream",
     "text": [
      "Model: \"sequential\"\n",
      "_________________________________________________________________\n",
      "Layer (type)                 Output Shape              Param #   \n",
      "=================================================================\n",
      "embedding (Embedding)        (None, None, 16)          80000     \n",
      "_________________________________________________________________\n",
      "lstm (LSTM)                  (None, 64)                20736     \n",
      "_________________________________________________________________\n",
      "flatten (Flatten)            (None, 64)                0         \n",
      "_________________________________________________________________\n",
      "dense (Dense)                (None, 1000)              65000     \n",
      "_________________________________________________________________\n",
      "dense_1 (Dense)              (None, 200)               200200    \n",
      "_________________________________________________________________\n",
      "dense_2 (Dense)              (None, 50)                10050     \n",
      "_________________________________________________________________\n",
      "dense_3 (Dense)              (None, 25)                1275      \n",
      "_________________________________________________________________\n",
      "dense_4 (Dense)              (None, 6)                 156       \n",
      "=================================================================\n",
      "Total params: 377,417\n",
      "Trainable params: 377,417\n",
      "Non-trainable params: 0\n",
      "_________________________________________________________________\n"
     ]
    }
   ],
   "source": [
    "import tensorflow as tf\n",
    "from tensorflow import keras\n",
    "from keras.models import Sequential\n",
    "from keras.layers import Embedding, LSTM, Dense, Flatten\n",
    "from tensorflow import optimizers\n",
    "\n",
    "\n",
    "lr=1e-3\n",
    "# build up model\n",
    "\n",
    "model = Sequential([\n",
    "                    Embedding(input_dim=5000, output_dim=16),\n",
    "                    LSTM(64),\n",
    "                    Flatten(),\n",
    "                    Dense(1000, activation='relu'),\n",
    "                    Dense(200, activation='relu'),\n",
    "                    Dense(50, activation='relu'),\n",
    "                    Dense(25, activation='relu'),\n",
    "                    Dense(6, activation='sigmoid')])\n",
    "\n",
    "model.compile(optimizer=tf.optimizers.Adam(learning_rate=lr),loss='binary_crossentropy',metrics=['accuracy'])\n",
    "\n",
    "model.summary()"
   ]
  },
  {
   "cell_type": "code",
   "execution_count": 11,
   "id": "9217fb55",
   "metadata": {
    "execution": {
     "iopub.execute_input": "2022-01-19T17:30:54.977131Z",
     "iopub.status.busy": "2022-01-19T17:30:54.976151Z",
     "iopub.status.idle": "2022-01-19T17:34:02.699024Z",
     "shell.execute_reply": "2022-01-19T17:34:02.699578Z",
     "shell.execute_reply.started": "2022-01-19T17:14:51.303149Z"
    },
    "papermill": {
     "duration": 187.745343,
     "end_time": "2022-01-19T17:34:02.699792",
     "exception": false,
     "start_time": "2022-01-19T17:30:54.954449",
     "status": "completed"
    },
    "tags": []
   },
   "outputs": [
    {
     "name": "stdout",
     "output_type": "stream",
     "text": [
      "Epoch 1/15\n"
     ]
    },
    {
     "name": "stderr",
     "output_type": "stream",
     "text": [
      "2022-01-19 17:30:55.024655: I tensorflow/compiler/mlir/mlir_graph_optimization_pass.cc:185] None of the MLIR Optimization Passes are enabled (registered 2)\n"
     ]
    },
    {
     "name": "stdout",
     "output_type": "stream",
     "text": [
      "500/500 [==============================] - 26s 48ms/step - loss: 0.3770 - accuracy: 0.3742 - val_loss: 0.3199 - val_accuracy: 0.4475\n",
      "Epoch 2/15\n",
      "500/500 [==============================] - 23s 46ms/step - loss: 0.2442 - accuracy: 0.6628 - val_loss: 0.1841 - val_accuracy: 0.7685\n",
      "Epoch 3/15\n",
      "500/500 [==============================] - 23s 46ms/step - loss: 0.1372 - accuracy: 0.8433 - val_loss: 0.1327 - val_accuracy: 0.8415\n",
      "Epoch 4/15\n",
      "500/500 [==============================] - 23s 46ms/step - loss: 0.0946 - accuracy: 0.8898 - val_loss: 0.0973 - val_accuracy: 0.8825\n",
      "Epoch 5/15\n",
      "500/500 [==============================] - 23s 46ms/step - loss: 0.0709 - accuracy: 0.9133 - val_loss: 0.0968 - val_accuracy: 0.8910\n",
      "Epoch 6/15\n",
      "500/500 [==============================] - 23s 45ms/step - loss: 0.0564 - accuracy: 0.9291 - val_loss: 0.0796 - val_accuracy: 0.9050\n",
      "Epoch 7/15\n",
      "500/500 [==============================] - 23s 47ms/step - loss: 0.0468 - accuracy: 0.9410 - val_loss: 0.0876 - val_accuracy: 0.9025\n",
      "Epoch 8/15\n",
      "500/500 [==============================] - 23s 47ms/step - loss: 0.0458 - accuracy: 0.9442 - val_loss: 0.0875 - val_accuracy: 0.9065\n",
      "Restoring model weights from the end of the best epoch.\n",
      "Epoch 00008: early stopping\n"
     ]
    }
   ],
   "source": [
    "from keras.callbacks import EarlyStopping\n",
    "\n",
    "# membuat early stopping\n",
    "es = EarlyStopping(monitor = 'val_loss',\n",
    "                   verbose = 1e-3,\n",
    "                   patience = 2,\n",
    "                   mode = 'min',\n",
    "                   restore_best_weights = True)\n",
    "\n",
    "# training model\n",
    "\n",
    "history = model.fit(padded_train, \n",
    "                    y_train,\n",
    "                    epochs = 15,\n",
    "                    validation_data = (padded_val, y_val),\n",
    "                    shuffle=True,\n",
    "                    callbacks=[es], use_multiprocessing=True)"
   ]
  },
  {
   "cell_type": "code",
   "execution_count": 12,
   "id": "cde5c1a4",
   "metadata": {
    "execution": {
     "iopub.execute_input": "2022-01-19T17:34:03.993718Z",
     "iopub.status.busy": "2022-01-19T17:34:03.992979Z",
     "iopub.status.idle": "2022-01-19T17:34:18.992843Z",
     "shell.execute_reply": "2022-01-19T17:34:18.992304Z",
     "shell.execute_reply.started": "2022-01-19T17:18:25.340460Z"
    },
    "papermill": {
     "duration": 15.648654,
     "end_time": "2022-01-19T17:34:18.992980",
     "exception": false,
     "start_time": "2022-01-19T17:34:03.344326",
     "status": "completed"
    },
    "tags": []
   },
   "outputs": [
    {
     "data": {
      "image/png": "[encoded data removed]",
      "text/plain": [
       "<Figure size 432x288 with 2 Axes>"
      ]
     },
     "metadata": {
      "needs_background": "light"
     },
     "output_type": "display_data"
    }
   ],
   "source": [
    "import matplotlib.pyplot as plt\n",
    "\n",
    "# plot loss during training\n",
    "plt.subplot(121)\n",
    "plt.title('Loss')\n",
    "plt.plot(history.history['loss'], label='training')\n",
    "plt.plot(history.history['val_loss'], label='testing')\n",
    "plt.xlabel('Epoch')\n",
    "plt.ylabel('Value')\n",
    "plt.legend()\n",
    "\n",
    "# plot accuracy during training\n",
    "plt.subplot(122)\n",
    "plt.title('Accuracy')\n",
    "plt.plot(history.history['accuracy'], label='training')\n",
    "plt.plot(history.history['val_accuracy'], label='testing')\n",
    "plt.xlabel('Epoch')\n",
    "plt.legend()\n",
    "plt.show()"
   ]
  },
  {
   "cell_type": "code",
   "execution_count": 13,
   "id": "347bfac5",
   "metadata": {
    "execution": {
     "iopub.execute_input": "2022-01-19T17:34:20.283612Z",
     "iopub.status.busy": "2022-01-19T17:34:20.272416Z",
     "iopub.status.idle": "2022-01-19T17:34:20.709760Z",
     "shell.execute_reply": "2022-01-19T17:34:20.709153Z",
     "shell.execute_reply.started": "2022-01-19T17:18:25.676728Z"
    },
    "papermill": {
     "duration": 1.078325,
     "end_time": "2022-01-19T17:34:20.709896",
     "exception": false,
     "start_time": "2022-01-19T17:34:19.631571",
     "status": "completed"
    },
    "tags": []
   },
   "outputs": [],
   "source": [
    "import itertools\n",
    "import numpy as np\n",
    "import matplotlib.pyplot as plt\n",
    "\n",
    "\n",
    "def plot_confusion_matrix(cm, classes,\n",
    "                          normalize=False,\n",
    "                          title='Confusion matrix - MLP Model',\n",
    "                          cmap=plt.cm.Blues, figsize=(12,12)):\n",
    "    \"\"\"\n",
    "    This function prints and plots the confusion matrix.\n",
    "    Normalization can be applied by setting `normalize=True`.\n",
    "    \"\"\"\n",
    "    if normalize:\n",
    "        cm = cm.astype('float') / cm.sum(axis=1)[:, np.newaxis]\n",
    "        print(\"Normalized confusion matrix\")\n",
    "    else:\n",
    "        print('Confusion matrix, without normalization')\n",
    "\n",
    "    #print(cm)\n",
    "\n",
    "    plt.imshow(cm, interpolation='nearest', cmap=cmap)\n",
    "    plt.title(title)\n",
    "    plt.colorbar()\n",
    "    tick_marks = np.arange(len(classes))\n",
    "    plt.xticks(tick_marks, classes, rotation=90)\n",
    "    plt.yticks(tick_marks, classes)\n",
    "\n",
    "    fmt = '.3f' if normalize else 'd'\n",
    "    thresh = cm.max() /2.\n",
    "    for i, j in itertools.product(range(cm.shape[0]), range(cm.shape[1])):\n",
    "        plt.text(j, i, format(cm[i, j], fmt),\n",
    "                 horizontalalignment=\"center\",\n",
    "                 color=\"white\" if cm[i, j] > thresh else \"black\")\n",
    "\n",
    "    plt.ylabel('True label')\n",
    "    plt.xlabel('Predicted label')\n",
    "    plt.tight_layout()\n",
    "    \n",
    "    \n",
    "import matplotlib.pyplot as plt\n",
    "from sklearn.model_selection import cross_val_predict,StratifiedKFold\n",
    "#from yellowbrick.classifier import ConfusionMatrix\n",
    "import numpy as np\n",
    "\n",
    "def To_categorie(X_test):\n",
    "  #y_pred = load_model.predict(X_test)\n",
    "  y_pred=[]\n",
    "  y_pred=(np.around(X_test))\n",
    "  y_Pred=[]\n",
    "  for i in range(0,len(y_pred)):\n",
    "      y_Pred.append(np.argmax(y_pred[i]))\n",
    "  return y_Pred\n",
    "y_Pred=To_categorie(model(padded_test))\n"
   ]
  },
  {
   "cell_type": "code",
   "execution_count": 14,
   "id": "f46755d8",
   "metadata": {
    "execution": {
     "iopub.execute_input": "2022-01-19T17:34:22.002459Z",
     "iopub.status.busy": "2022-01-19T17:34:22.001468Z",
     "iopub.status.idle": "2022-01-19T17:34:22.599980Z",
     "shell.execute_reply": "2022-01-19T17:34:22.600544Z",
     "shell.execute_reply.started": "2022-01-19T17:18:26.220608Z"
    },
    "papermill": {
     "duration": 1.248347,
     "end_time": "2022-01-19T17:34:22.600728",
     "exception": false,
     "start_time": "2022-01-19T17:34:21.352381",
     "status": "completed"
    },
    "tags": []
   },
   "outputs": [
    {
     "name": "stdout",
     "output_type": "stream",
     "text": [
      "Normalized confusion matrix\n"
     ]
    },
    {
     "data": {
      "image/png": "[encoded data removed]",
      "text/plain": [
       "<Figure size 576x432 with 2 Axes>"
      ]
     },
     "metadata": {
      "needs_background": "light"
     },
     "output_type": "display_data"
    }
   ],
   "source": [
    "from sklearn.metrics import confusion_matrix\n",
    "# Plot normalized confusion matrix\n",
    "\n",
    "# Compute confusion matrix\n",
    "cnf_matrix = confusion_matrix(To_categorie(y_test), y_Pred)\n",
    "np.set_printoptions(precision=2)\n",
    "\n",
    "plt.figure(figsize=(8, 6))\n",
    "plot_confusion_matrix(cnf_matrix, classes=[0,1,2,3,4,5], normalize=True,\n",
    "                      title='Normalized confusion matrix - MLP Model')\n",
    "plt.savefig(\"./Normalized Confusion Matrix - MLP MODEL.png\")\n",
    "plt.show()"
   ]
  }
 ],
 "metadata": {
  "kernelspec": {
   "display_name": "Python 3",
   "language": "python",
   "name": "python3"
  },
  "language_info": {
   "codemirror_mode": {
    "name": "ipython",
    "version": 3
   },
   "file_extension": ".py",
   "mimetype": "text/x-python",
   "name": "python",
   "nbconvert_exporter": "python",
   "pygments_lexer": "ipython3",
   "version": "3.7.12"
  },
  "papermill": {
   "default_parameters": {},
   "duration": 229.801956,
   "end_time": "2022-01-19T17:34:26.708417",
   "environment_variables": {},
   "exception": null,
   "input_path": "__notebook__.ipynb",
   "output_path": "__notebook__.ipynb",
   "parameters": {},
   "start_time": "2022-01-19T17:30:36.906461",
   "version": "2.3.3"
  }
 },
 "nbformat": 4,
 "nbformat_minor": 5
}
