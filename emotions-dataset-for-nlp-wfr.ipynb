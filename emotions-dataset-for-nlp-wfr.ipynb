{
 "cells": [
  {
   "cell_type": "code",
   "execution_count": 1,
   "id": "32bbf258",
   "metadata": {
    "_cell_guid": "b1076dfc-b9ad-4769-8c92-a6c4dae69d19",
    "_uuid": "8f2839f25d086af736a60e9eeb907d3b93b6e0e5",
    "execution": {
     "iopub.execute_input": "2022-01-18T23:45:31.953941Z",
     "iopub.status.busy": "2022-01-18T23:45:31.952143Z",
     "iopub.status.idle": "2022-01-18T23:45:31.976980Z",
     "shell.execute_reply": "2022-01-18T23:45:31.977731Z",
     "shell.execute_reply.started": "2022-01-18T23:37:42.255531Z"
    },
    "papermill": {
     "duration": 0.041098,
     "end_time": "2022-01-18T23:45:31.978128",
     "exception": false,
     "start_time": "2022-01-18T23:45:31.937030",
     "status": "completed"
    },
    "tags": []
   },
   "outputs": [
    {
     "name": "stdout",
     "output_type": "stream",
     "text": [
      "/kaggle/input/emotions-dataset-for-nlp/val.txt\n",
      "/kaggle/input/emotions-dataset-for-nlp/test.txt\n",
      "/kaggle/input/emotions-dataset-for-nlp/train.txt\n"
     ]
    }
   ],
   "source": [
    "# This Python 3 environment comes with many helpful analytics libraries installed\n",
    "# It is defined by the kaggle/python Docker image: https://github.com/kaggle/docker-python\n",
    "# For example, here's several helpful packages to load\n",
    "\n",
    "import numpy as np # linear algebra\n",
    "import pandas as pd # data processing, CSV file I/O (e.g. pd.read_csv)\n",
    "\n",
    "# Input data files are available in the read-only \"../input/\" directory\n",
    "# For example, running this (by clicking run or pressing Shift+Enter) will list all files under the input directory\n",
    "\n",
    "import os\n",
    "for dirname, _, filenames in os.walk('/kaggle/input'):\n",
    "    for filename in filenames:\n",
    "        print(os.path.join(dirname, filename))\n",
    "\n",
    "# You can write up to 20GB to the current directory (/kaggle/working/) that gets preserved as output when you create a version using \"Save & Run All\" \n",
    "# You can also write temporary files to /kaggle/temp/, but they won't be saved outside of the current session"
   ]
  },
  {
   "cell_type": "code",
   "execution_count": 2,
   "id": "aebddcd8",
   "metadata": {
    "execution": {
     "iopub.execute_input": "2022-01-18T23:45:32.010263Z",
     "iopub.status.busy": "2022-01-18T23:45:32.003330Z",
     "iopub.status.idle": "2022-01-18T23:45:39.194522Z",
     "shell.execute_reply": "2022-01-18T23:45:39.195075Z",
     "shell.execute_reply.started": "2022-01-18T23:37:42.268685Z"
    },
    "papermill": {
     "duration": 7.204885,
     "end_time": "2022-01-18T23:45:39.195280",
     "exception": false,
     "start_time": "2022-01-18T23:45:31.990395",
     "status": "completed"
    },
    "tags": []
   },
   "outputs": [],
   "source": [
    "from sklearn import preprocessing\n",
    "import tensorflow as tf\n",
    "from tensorflow.keras import utils\n",
    "def trait_data(diretory):\n",
    "    data=pd.read_csv(diretory, sep=\";\", header=None)\n",
    "    data = data.rename(columns = {0:\"sentences\", 1:\"classes\"})\n",
    "    x=data['sentences'].values\n",
    "    y=data['classes']\n",
    "    le = preprocessing.LabelEncoder()\n",
    "    y=le.fit_transform(y)\n",
    "    y=utils.to_categorical(y, num_classes=None, dtype=\"float32\")\n",
    "    \n",
    "    return x,y"
   ]
  },
  {
   "cell_type": "code",
   "execution_count": 3,
   "id": "013b9a93",
   "metadata": {
    "execution": {
     "iopub.execute_input": "2022-01-18T23:45:39.222094Z",
     "iopub.status.busy": "2022-01-18T23:45:39.218829Z",
     "iopub.status.idle": "2022-01-18T23:45:39.360074Z",
     "shell.execute_reply": "2022-01-18T23:45:39.359438Z",
     "shell.execute_reply.started": "2022-01-18T23:37:42.278546Z"
    },
    "papermill": {
     "duration": 0.154869,
     "end_time": "2022-01-18T23:45:39.360225",
     "exception": false,
     "start_time": "2022-01-18T23:45:39.205356",
     "status": "completed"
    },
    "tags": []
   },
   "outputs": [],
   "source": [
    "x_train,y_train=trait_data(\"../input/emotions-dataset-for-nlp/train.txt\")\n",
    "x_test,y_test=trait_data(\"../input/emotions-dataset-for-nlp/test.txt\")\n",
    "x_val,y_val=trait_data(\"../input/emotions-dataset-for-nlp/val.txt\")"
   ]
  },
  {
   "cell_type": "code",
   "execution_count": 4,
   "id": "29c91754",
   "metadata": {
    "execution": {
     "iopub.execute_input": "2022-01-18T23:45:39.390587Z",
     "iopub.status.busy": "2022-01-18T23:45:39.389869Z",
     "iopub.status.idle": "2022-01-18T23:45:39.393431Z",
     "shell.execute_reply": "2022-01-18T23:45:39.392924Z",
     "shell.execute_reply.started": "2022-01-18T23:37:42.342393Z"
    },
    "papermill": {
     "duration": 0.022868,
     "end_time": "2022-01-18T23:45:39.393585",
     "exception": false,
     "start_time": "2022-01-18T23:45:39.370717",
     "status": "completed"
    },
    "tags": []
   },
   "outputs": [
    {
     "data": {
      "text/plain": [
       "array([[0., 0., 0., 0., 1., 0.],\n",
       "       [0., 0., 0., 0., 1., 0.],\n",
       "       [1., 0., 0., 0., 0., 0.],\n",
       "       ...,\n",
       "       [0., 0., 1., 0., 0., 0.],\n",
       "       [1., 0., 0., 0., 0., 0.],\n",
       "       [0., 0., 0., 0., 1., 0.]], dtype=float32)"
      ]
     },
     "execution_count": 4,
     "metadata": {},
     "output_type": "execute_result"
    }
   ],
   "source": [
    "y_train"
   ]
  },
  {
   "cell_type": "code",
   "execution_count": 5,
   "id": "b65be081",
   "metadata": {
    "execution": {
     "iopub.execute_input": "2022-01-18T23:45:39.419897Z",
     "iopub.status.busy": "2022-01-18T23:45:39.419254Z",
     "iopub.status.idle": "2022-01-18T23:45:39.423082Z",
     "shell.execute_reply": "2022-01-18T23:45:39.422504Z",
     "shell.execute_reply.started": "2022-01-18T23:37:42.350419Z"
    },
    "papermill": {
     "duration": 0.019416,
     "end_time": "2022-01-18T23:45:39.423231",
     "exception": false,
     "start_time": "2022-01-18T23:45:39.403815",
     "status": "completed"
    },
    "tags": []
   },
   "outputs": [
    {
     "name": "stdout",
     "output_type": "stream",
     "text": [
      "sentence: i didnt feel humiliated. Classe:[0. 0. 0. 0. 1. 0.]\n"
     ]
    }
   ],
   "source": [
    "print('sentence: {}. Classe:{}'.format(x_train[0], y_train[0]))"
   ]
  },
  {
   "cell_type": "code",
   "execution_count": 6,
   "id": "d59f4efd",
   "metadata": {
    "execution": {
     "iopub.execute_input": "2022-01-18T23:45:39.451305Z",
     "iopub.status.busy": "2022-01-18T23:45:39.450596Z",
     "iopub.status.idle": "2022-01-18T23:45:40.453889Z",
     "shell.execute_reply": "2022-01-18T23:45:40.453277Z",
     "shell.execute_reply.started": "2022-01-18T23:37:42.364383Z"
    },
    "papermill": {
     "duration": 1.020147,
     "end_time": "2022-01-18T23:45:40.454054",
     "exception": false,
     "start_time": "2022-01-18T23:45:39.433907",
     "status": "completed"
    },
    "tags": []
   },
   "outputs": [],
   "source": [
    "# tokenizing\n",
    "\n",
    "from tensorflow.keras.preprocessing.text import Tokenizer\n",
    "from tensorflow.keras.preprocessing.sequence import pad_sequences\n",
    " \n",
    "tokenizer = Tokenizer(num_words=2000)\n",
    "tokenizer.fit_on_texts(x_train) \n",
    "#tokenizer.fit_on_texts(x_val)\n",
    "#tokenizer.fit_on_texts(x_test)\n",
    "#print(x_train)\n",
    "sequence_train = tokenizer.texts_to_sequences(x_train)\n",
    "sequence_val = tokenizer.texts_to_sequences(x_val)\n",
    "sequence_test = tokenizer.texts_to_sequences(x_test)\n",
    " \n",
    "padded_train = pad_sequences(sequence_train) \n",
    "padded_test = pad_sequences(sequence_test)\n",
    "padded_val = pad_sequences(sequence_val)"
   ]
  },
  {
   "cell_type": "code",
   "execution_count": 7,
   "id": "f5ba2e47",
   "metadata": {
    "execution": {
     "iopub.execute_input": "2022-01-18T23:45:40.479905Z",
     "iopub.status.busy": "2022-01-18T23:45:40.479261Z",
     "iopub.status.idle": "2022-01-18T23:45:40.482405Z",
     "shell.execute_reply": "2022-01-18T23:45:40.481833Z",
     "shell.execute_reply.started": "2022-01-18T23:37:43.111954Z"
    },
    "papermill": {
     "duration": 0.017838,
     "end_time": "2022-01-18T23:45:40.482547",
     "exception": false,
     "start_time": "2022-01-18T23:45:40.464709",
     "status": "completed"
    },
    "tags": []
   },
   "outputs": [],
   "source": [
    "#y_train=y_train.reshape(-1,1)\n",
    "#y_val=y_val.reshape(-1,1)\n",
    "#y_test=y_test.reshape(-1,1)"
   ]
  },
  {
   "cell_type": "code",
   "execution_count": 8,
   "id": "60c03b98",
   "metadata": {
    "execution": {
     "iopub.execute_input": "2022-01-18T23:45:40.512791Z",
     "iopub.status.busy": "2022-01-18T23:45:40.511768Z",
     "iopub.status.idle": "2022-01-18T23:45:40.969094Z",
     "shell.execute_reply": "2022-01-18T23:45:40.968419Z",
     "shell.execute_reply.started": "2022-01-18T23:37:43.117340Z"
    },
    "papermill": {
     "duration": 0.475978,
     "end_time": "2022-01-18T23:45:40.969249",
     "exception": false,
     "start_time": "2022-01-18T23:45:40.493271",
     "status": "completed"
    },
    "tags": []
   },
   "outputs": [
    {
     "name": "stderr",
     "output_type": "stream",
     "text": [
      "\n",
      "User settings:\n",
      "\n",
      "   KMP_AFFINITY=granularity=fine,verbose,compact,1,0\n",
      "   KMP_BLOCKTIME=0\n",
      "   KMP_DUPLICATE_LIB_OK=True\n",
      "   KMP_INIT_AT_FORK=FALSE\n",
      "   KMP_SETTINGS=1\n",
      "   KMP_WARNINGS=0\n",
      "\n",
      "Effective settings:\n",
      "\n",
      "   KMP_ABORT_DELAY=0\n",
      "   KMP_ADAPTIVE_LOCK_PROPS='1,1024'\n",
      "   KMP_ALIGN_ALLOC=64\n",
      "   KMP_ALL_THREADPRIVATE=128\n",
      "   KMP_ATOMIC_MODE=2\n",
      "   KMP_BLOCKTIME=0\n",
      "   KMP_CPUINFO_FILE: value is not defined\n",
      "   KMP_DETERMINISTIC_REDUCTION=false\n",
      "   KMP_DEVICE_THREAD_LIMIT=2147483647\n",
      "   KMP_DISP_NUM_BUFFERS=7\n",
      "   KMP_DUPLICATE_LIB_OK=true\n",
      "   KMP_ENABLE_TASK_THROTTLING=true\n",
      "   KMP_FORCE_REDUCTION: value is not defined\n",
      "   KMP_FOREIGN_THREADS_THREADPRIVATE=true\n",
      "   KMP_FORKJOIN_BARRIER='2,2'\n",
      "   KMP_FORKJOIN_BARRIER_PATTERN='hyper,hyper'\n",
      "   KMP_GTID_MODE=3\n",
      "   KMP_HANDLE_SIGNALS=false\n",
      "   KMP_HOT_TEAMS_MAX_LEVEL=1\n",
      "   KMP_HOT_TEAMS_MODE=0\n",
      "   KMP_INIT_AT_FORK=true\n",
      "   KMP_LIBRARY=throughput\n",
      "   KMP_LOCK_KIND=queuing\n",
      "   KMP_MALLOC_POOL_INCR=1M\n",
      "   KMP_NUM_LOCKS_IN_BLOCK=1\n",
      "   KMP_PLAIN_BARRIER='2,2'\n",
      "   KMP_PLAIN_BARRIER_PATTERN='hyper,hyper'\n",
      "   KMP_REDUCTION_BARRIER='1,1'\n",
      "   KMP_REDUCTION_BARRIER_PATTERN='hyper,hyper'\n",
      "   KMP_SCHEDULE='static,balanced;guided,iterative'\n",
      "   KMP_SETTINGS=true\n",
      "   KMP_SPIN_BACKOFF_PARAMS='4096,100'\n",
      "   KMP_STACKOFFSET=64\n",
      "   KMP_STACKPAD=0\n",
      "   KMP_STACKSIZE=8M\n",
      "   KMP_STORAGE_MAP=false\n",
      "   KMP_TASKING=2\n",
      "   KMP_TASKLOOP_MIN_TASKS=0\n",
      "   KMP_TASK_STEALING_CONSTRAINT=1\n",
      "   KMP_TEAMS_THREAD_LIMIT=4\n",
      "   KMP_TOPOLOGY_METHOD=all\n",
      "   KMP_USE_YIELD=1\n",
      "   KMP_VERSION=false\n",
      "   KMP_WARNINGS=false\n",
      "   OMP_AFFINITY_FORMAT='OMP: pid %P tid %i thread %n bound to OS proc set {%A}'\n",
      "   OMP_ALLOCATOR=omp_default_mem_alloc\n",
      "   OMP_CANCELLATION=false\n",
      "   OMP_DEFAULT_DEVICE=0\n",
      "   OMP_DISPLAY_AFFINITY=false\n",
      "   OMP_DISPLAY_ENV=false\n",
      "   OMP_DYNAMIC=false\n",
      "   OMP_MAX_ACTIVE_LEVELS=1\n",
      "   OMP_MAX_TASK_PRIORITY=0\n",
      "   OMP_NESTED: deprecated; max-active-levels-var=1\n",
      "   OMP_NUM_THREADS: value is not defined\n",
      "   OMP_PLACES: value is not defined\n",
      "   OMP_PROC_BIND='intel'\n",
      "   OMP_SCHEDULE='static'\n",
      "   OMP_STACKSIZE=8M\n",
      "   OMP_TARGET_OFFLOAD=DEFAULT\n",
      "   OMP_THREAD_LIMIT=2147483647\n",
      "   OMP_WAIT_POLICY=PASSIVE\n",
      "   KMP_AFFINITY='verbose,warnings,respect,granularity=fine,compact,1,0'\n",
      "\n",
      "2022-01-18 23:45:40.555090: I tensorflow/core/common_runtime/process_util.cc:146] Creating new thread pool with default inter op setting: 2. Tune using inter_op_parallelism_threads for best performance.\n"
     ]
    },
    {
     "name": "stdout",
     "output_type": "stream",
     "text": [
      "Model: \"sequential\"\n",
      "_________________________________________________________________\n",
      "Layer (type)                 Output Shape              Param #   \n",
      "=================================================================\n",
      "embedding (Embedding)        (None, None, 16)          80000     \n",
      "_________________________________________________________________\n",
      "lstm (LSTM)                  (None, 64)                20736     \n",
      "_________________________________________________________________\n",
      "dense (Dense)                (None, 1000)              65000     \n",
      "_________________________________________________________________\n",
      "dense_1 (Dense)              (None, 200)               200200    \n",
      "_________________________________________________________________\n",
      "dense_2 (Dense)              (None, 50)                10050     \n",
      "_________________________________________________________________\n",
      "dense_3 (Dense)              (None, 25)                1275      \n",
      "_________________________________________________________________\n",
      "dense_4 (Dense)              (None, 6)                 156       \n",
      "=================================================================\n",
      "Total params: 377,417\n",
      "Trainable params: 377,417\n",
      "Non-trainable params: 0\n",
      "_________________________________________________________________\n"
     ]
    }
   ],
   "source": [
    "import tensorflow as tf\n",
    "from tensorflow import keras\n",
    "from keras.models import Sequential\n",
    "from keras.layers import Embedding, LSTM, Dense\n",
    "from tensorflow import optimizers\n",
    "\n",
    "\n",
    "lr=1e-3\n",
    "# build up model\n",
    "\n",
    "model = Sequential([\n",
    "                    Embedding(input_dim=5000, output_dim=16),\n",
    "                    LSTM(64),\n",
    "                    Dense(1000, activation='relu'),\n",
    "                    Dense(200, activation='relu'),\n",
    "                    Dense(50, activation='relu'),\n",
    "                    Dense(25, activation='relu'),\n",
    "                    Dense(6, activation='sigmoid')])\n",
    "\n",
    "model.compile(optimizer=tf.optimizers.Adam(learning_rate=lr),loss='binary_crossentropy',metrics=['accuracy'])\n",
    "\n",
    "model.summary()"
   ]
  },
  {
   "cell_type": "code",
   "execution_count": 9,
   "id": "2717bdd3",
   "metadata": {
    "execution": {
     "iopub.execute_input": "2022-01-18T23:45:41.001872Z",
     "iopub.status.busy": "2022-01-18T23:45:41.001147Z",
     "iopub.status.idle": "2022-01-18T23:49:33.716503Z",
     "shell.execute_reply": "2022-01-18T23:49:33.717038Z",
     "shell.execute_reply.started": "2022-01-18T23:37:43.402304Z"
    },
    "papermill": {
     "duration": 232.736372,
     "end_time": "2022-01-18T23:49:33.717235",
     "exception": false,
     "start_time": "2022-01-18T23:45:40.980863",
     "status": "completed"
    },
    "tags": []
   },
   "outputs": [
    {
     "name": "stdout",
     "output_type": "stream",
     "text": [
      "Epoch 1/15\n"
     ]
    },
    {
     "name": "stderr",
     "output_type": "stream",
     "text": [
      "2022-01-18 23:45:41.054613: I tensorflow/compiler/mlir/mlir_graph_optimization_pass.cc:185] None of the MLIR Optimization Passes are enabled (registered 2)\n"
     ]
    },
    {
     "name": "stdout",
     "output_type": "stream",
     "text": [
      "500/500 - 26s - loss: 0.3970 - accuracy: 0.3363 - val_loss: 0.3240 - val_accuracy: 0.4725\n",
      "Epoch 2/15\n",
      "500/500 - 23s - loss: 0.2624 - accuracy: 0.6444 - val_loss: 0.2116 - val_accuracy: 0.7290\n",
      "Epoch 3/15\n",
      "500/500 - 22s - loss: 0.1503 - accuracy: 0.8217 - val_loss: 0.1268 - val_accuracy: 0.8605\n",
      "Epoch 4/15\n",
      "500/500 - 23s - loss: 0.0938 - accuracy: 0.8913 - val_loss: 0.1006 - val_accuracy: 0.8895\n",
      "Epoch 5/15\n",
      "500/500 - 23s - loss: 0.0722 - accuracy: 0.9127 - val_loss: 0.0989 - val_accuracy: 0.8890\n",
      "Epoch 6/15\n",
      "500/500 - 23s - loss: 0.0566 - accuracy: 0.9293 - val_loss: 0.0880 - val_accuracy: 0.8950\n",
      "Epoch 7/15\n",
      "500/500 - 23s - loss: 0.0488 - accuracy: 0.9373 - val_loss: 0.0906 - val_accuracy: 0.9040\n",
      "Epoch 8/15\n",
      "500/500 - 23s - loss: 0.0442 - accuracy: 0.9448 - val_loss: 0.0828 - val_accuracy: 0.9020\n",
      "Epoch 9/15\n",
      "500/500 - 23s - loss: 0.0381 - accuracy: 0.9517 - val_loss: 0.0834 - val_accuracy: 0.9055\n",
      "Epoch 10/15\n",
      "500/500 - 22s - loss: 0.0362 - accuracy: 0.9529 - val_loss: 0.0919 - val_accuracy: 0.9060\n"
     ]
    }
   ],
   "source": [
    "from keras.callbacks import EarlyStopping\n",
    "\n",
    "# membuat early stopping\n",
    "es = EarlyStopping(monitor = 'val_loss',\n",
    "                   verbose = 0,\n",
    "                   patience = 2,\n",
    "                   mode = 'min',\n",
    "                   restore_best_weights = True)\n",
    "\n",
    "# training model\n",
    "\n",
    "history = model.fit(padded_train, \n",
    "                    y_train,\n",
    "                    epochs = 15,\n",
    "                    validation_data = (padded_val, y_val),\n",
    "                    verbose=2,\n",
    "                    callbacks=[es])"
   ]
  },
  {
   "cell_type": "code",
   "execution_count": 10,
   "id": "6cf8f8a5",
   "metadata": {
    "execution": {
     "iopub.execute_input": "2022-01-18T23:49:33.756023Z",
     "iopub.status.busy": "2022-01-18T23:49:33.755069Z",
     "iopub.status.idle": "2022-01-18T23:50:05.131046Z",
     "shell.execute_reply": "2022-01-18T23:50:05.131598Z",
     "shell.execute_reply.started": "2022-01-18T23:41:51.973021Z"
    },
    "papermill": {
     "duration": 31.39706,
     "end_time": "2022-01-18T23:50:05.131782",
     "exception": false,
     "start_time": "2022-01-18T23:49:33.734722",
     "status": "completed"
    },
    "tags": []
   },
   "outputs": [
    {
     "data": {
      "image/png": "[encoded data removed]",
      "text/plain": [
       "<Figure size 432x288 with 2 Axes>"
      ]
     },
     "metadata": {
      "needs_background": "light"
     },
     "output_type": "display_data"
    }
   ],
   "source": [
    "import matplotlib.pyplot as plt\n",
    "\n",
    "# plot loss during training\n",
    "plt.subplot(121)\n",
    "plt.title('Loss')\n",
    "plt.plot(history.history['loss'], label='training')\n",
    "plt.plot(history.history['val_loss'], label='testing')\n",
    "plt.xlabel('Epoch')\n",
    "plt.ylabel('Value')\n",
    "plt.legend()\n",
    "\n",
    "# plot accuracy during training\n",
    "plt.subplot(122)\n",
    "plt.title('Accuracy')\n",
    "plt.plot(history.history['accuracy'], label='training')\n",
    "plt.plot(history.history['val_accuracy'], label='testing')\n",
    "plt.xlabel('Epoch')\n",
    "plt.legend()\n",
    "plt.show()"
   ]
  }
 ],
 "metadata": {
  "kernelspec": {
   "display_name": "Python 3",
   "language": "python",
   "name": "python3"
  },
  "language_info": {
   "codemirror_mode": {
    "name": "ipython",
    "version": 3
   },
   "file_extension": ".py",
   "mimetype": "text/x-python",
   "name": "python",
   "nbconvert_exporter": "python",
   "pygments_lexer": "ipython3",
   "version": "3.7.12"
  },
  "papermill": {
   "default_parameters": {},
   "duration": 286.823572,
   "end_time": "2022-01-18T23:50:08.483822",
   "environment_variables": {},
   "exception": null,
   "input_path": "__notebook__.ipynb",
   "output_path": "__notebook__.ipynb",
   "parameters": {},
   "start_time": "2022-01-18T23:45:21.660250",
   "version": "2.3.3"
  }
 },
 "nbformat": 4,
 "nbformat_minor": 5
}
